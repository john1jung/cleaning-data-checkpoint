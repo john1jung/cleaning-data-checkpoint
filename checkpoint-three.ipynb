{
    "cells": [
        {
            "attachments": {},
            "cell_type": "markdown",
            "metadata": {
                "azdata_cell_guid": "26037d32-2047-4157-81ef-595916bd66a0"
            },
            "source": [
                "# Checkpoint Three: Cleaning Data\n",
                "\n",
                "Now you are ready to clean your data. Before starting coding, provide the link to your dataset below.\n",
                "\n",
                "My dataset:\n",
                "\n",
                "Import the necessary libraries and create your dataframe(s)."
            ]
        },
        {
            "cell_type": "code",
            "execution_count": 7,
            "metadata": {
                "azdata_cell_guid": "e8adef8e-d0f2-4640-a179-5997f11e82ca"
            },
            "outputs": [
                {
                    "name": "stdout",
                    "output_type": "stream",
                    "text": [
                        "<class 'pandas.core.frame.DataFrame'>\n",
                        "RangeIndex: 1000 entries, 0 to 999\n",
                        "Data columns (total 10 columns):\n",
                        " #   Column              Non-Null Count  Dtype \n",
                        "---  ------              --------------  ----- \n",
                        " 0   order_id            1000 non-null   int64 \n",
                        " 1   date                1000 non-null   object\n",
                        " 2   item_name           1000 non-null   object\n",
                        " 3   item_type           1000 non-null   object\n",
                        " 4   item_price          1000 non-null   int64 \n",
                        " 5   quantity            1000 non-null   int64 \n",
                        " 6   transaction_amount  1000 non-null   int64 \n",
                        " 7   transaction_type    893 non-null    object\n",
                        " 8   received_by         1000 non-null   object\n",
                        " 9   time_of_sale        1000 non-null   object\n",
                        "dtypes: int64(4), object(6)\n",
                        "memory usage: 78.3+ KB\n"
                    ]
                }
            ],
            "source": [
                "import pandas as pd\n",
                "import matplotlib.pyplot as plt\n",
                "import seaborn as sns\n",
                "import numpy as np\n",
                "\n",
                "data = pd.read_csv(r\"C:\\Users\\jjung\\Documents\\LaunchCode\\eda-checkpoint\\Balaji Fast Food Sales.csv\")\n",
                "df = pd.DataFrame(data)\n",
                "data.info()"
            ]
        },
        {
            "cell_type": "markdown",
            "metadata": {
                "azdata_cell_guid": "e172475a-c4ee-414a-8367-9965355dbba6"
            },
            "source": [
                "## Missing Data\n",
                "\n",
                "Test your dataset for missing data and handle it as needed. Make notes in the form of code comments as to your thought process."
            ]
        },
        {
            "cell_type": "code",
            "execution_count": 8,
            "metadata": {
                "azdata_cell_guid": "e1dc66ef-e471-4c27-92e7-ee878c106eba"
            },
            "outputs": [
                {
                    "name": "stdout",
                    "output_type": "stream",
                    "text": [
                        "order_id - 0%\n",
                        "date - 0%\n",
                        "item_name - 0%\n",
                        "item_type - 0%\n",
                        "item_price - 0%\n",
                        "quantity - 0%\n",
                        "transaction_amount - 0%\n",
                        "transaction_type - 11%\n",
                        "received_by - 0%\n",
                        "time_of_sale - 0%\n"
                    ]
                }
            ],
            "source": [
                "# i used this code from the studio on cleaning data!\n",
                "\n",
                "#11% of transactions have no data type. Not sure if this is just missing info or if it means something more.\n",
                "for col in df.columns:\n",
                "    pct_missing = np.mean(data[col].isnull())\n",
                "    print('{} - {}%'.format(col, round(pct_missing*100)))"
            ]
        },
        {
            "cell_type": "code",
            "execution_count": 12,
            "metadata": {},
            "outputs": [
                {
                    "data": {
                        "text/plain": [
                            "((1000, 10),\n",
                            "      order_id        date        item_name  item_type  item_price  quantity  \\\n",
                            " 1           2   8/23/2022          Vadapav   Fastfood          20        15   \n",
                            " 2           3  11/20/2022          Vadapav   Fastfood          20         1   \n",
                            " 3           4  02-03-2023  Sugarcane juice  Beverages          25         6   \n",
                            " 4           5  10-02-2022  Sugarcane juice  Beverages          25         8   \n",
                            " 5           6  11/14/2022          Vadapav   Fastfood          20        10   \n",
                            " ..        ...         ...              ...        ...         ...       ...   \n",
                            " 991       992  10/21/2022         Sandwich   Fastfood          60         5   \n",
                            " 992       993   7/17/2022          Frankie   Fastfood          50         3   \n",
                            " 993       994  11-01-2022         Panipuri   Fastfood          20         2   \n",
                            " 994       995   6/18/2022  Sugarcane juice  Beverages          25         1   \n",
                            " 999      1000   5/29/2022         Aalopuri   Fastfood          20         3   \n",
                            " \n",
                            "      transaction_amount transaction_type received_by time_of_sale  \n",
                            " 1                   300             Cash         Mr.    Afternoon  \n",
                            " 2                    20             Cash         Mr.    Afternoon  \n",
                            " 3                   150           Online         Mr.        Night  \n",
                            " 4                   200           Online         Mr.      Evening  \n",
                            " 5                   200             Cash         Mr.      Evening  \n",
                            " ..                  ...              ...         ...          ...  \n",
                            " 991                 300             Cash         Mr.      Morning  \n",
                            " 992                 150           Online        Mrs.        Night  \n",
                            " 993                  40           Online        Mrs.      Evening  \n",
                            " 994                  25           Online         Mr.        Night  \n",
                            " 999                  60           Online        Mrs.     Midnight  \n",
                            " \n",
                            " [893 rows x 10 columns],\n",
                            " (1000, 10))"
                        ]
                    },
                    "execution_count": 12,
                    "metadata": {},
                    "output_type": "execute_result"
                }
            ],
            "source": [
                "# here i can see there are 107 transactions with null values.\n",
                "df.isnull().sum()\n",
                "# here's how i would drop these transactions. but for now I will keep them in the data set. \n",
                "#df.shape, df.dropna(), df.shape"
            ]
        },
        {
            "cell_type": "markdown",
            "metadata": {
                "azdata_cell_guid": "1233f543-e9a0-4f78-96f5-d7536554102e"
            },
            "source": [
                "## Irregular Data\n",
                "\n",
                "Detect outliers in your dataset and handle them as needed. Use code comments to make notes about your thought process."
            ]
        },
        {
            "cell_type": "code",
            "execution_count": 9,
            "metadata": {
                "azdata_cell_guid": "efed50ae-16f0-471d-98e2-632553a74c12"
            },
            "outputs": [
                {
                    "data": {
                        "text/html": [
                            "<div>\n",
                            "<style scoped>\n",
                            "    .dataframe tbody tr th:only-of-type {\n",
                            "        vertical-align: middle;\n",
                            "    }\n",
                            "\n",
                            "    .dataframe tbody tr th {\n",
                            "        vertical-align: top;\n",
                            "    }\n",
                            "\n",
                            "    .dataframe thead th {\n",
                            "        text-align: right;\n",
                            "    }\n",
                            "</style>\n",
                            "<table border=\"1\" class=\"dataframe\">\n",
                            "  <thead>\n",
                            "    <tr style=\"text-align: right;\">\n",
                            "      <th></th>\n",
                            "      <th>order_id</th>\n",
                            "      <th>item_price</th>\n",
                            "      <th>quantity</th>\n",
                            "      <th>transaction_amount</th>\n",
                            "    </tr>\n",
                            "  </thead>\n",
                            "  <tbody>\n",
                            "    <tr>\n",
                            "      <th>count</th>\n",
                            "      <td>1000.000000</td>\n",
                            "      <td>1000.000000</td>\n",
                            "      <td>1000.000000</td>\n",
                            "      <td>1000.000000</td>\n",
                            "    </tr>\n",
                            "    <tr>\n",
                            "      <th>mean</th>\n",
                            "      <td>500.500000</td>\n",
                            "      <td>33.315000</td>\n",
                            "      <td>8.162000</td>\n",
                            "      <td>275.230000</td>\n",
                            "    </tr>\n",
                            "    <tr>\n",
                            "      <th>std</th>\n",
                            "      <td>288.819436</td>\n",
                            "      <td>14.921744</td>\n",
                            "      <td>4.413075</td>\n",
                            "      <td>204.402979</td>\n",
                            "    </tr>\n",
                            "    <tr>\n",
                            "      <th>min</th>\n",
                            "      <td>1.000000</td>\n",
                            "      <td>20.000000</td>\n",
                            "      <td>1.000000</td>\n",
                            "      <td>20.000000</td>\n",
                            "    </tr>\n",
                            "    <tr>\n",
                            "      <th>25%</th>\n",
                            "      <td>250.750000</td>\n",
                            "      <td>20.000000</td>\n",
                            "      <td>4.000000</td>\n",
                            "      <td>120.000000</td>\n",
                            "    </tr>\n",
                            "    <tr>\n",
                            "      <th>50%</th>\n",
                            "      <td>500.500000</td>\n",
                            "      <td>25.000000</td>\n",
                            "      <td>8.000000</td>\n",
                            "      <td>240.000000</td>\n",
                            "    </tr>\n",
                            "    <tr>\n",
                            "      <th>75%</th>\n",
                            "      <td>750.250000</td>\n",
                            "      <td>50.000000</td>\n",
                            "      <td>12.000000</td>\n",
                            "      <td>360.000000</td>\n",
                            "    </tr>\n",
                            "    <tr>\n",
                            "      <th>max</th>\n",
                            "      <td>1000.000000</td>\n",
                            "      <td>60.000000</td>\n",
                            "      <td>15.000000</td>\n",
                            "      <td>900.000000</td>\n",
                            "    </tr>\n",
                            "  </tbody>\n",
                            "</table>\n",
                            "</div>"
                        ],
                        "text/plain": [
                            "          order_id   item_price     quantity  transaction_amount\n",
                            "count  1000.000000  1000.000000  1000.000000         1000.000000\n",
                            "mean    500.500000    33.315000     8.162000          275.230000\n",
                            "std     288.819436    14.921744     4.413075          204.402979\n",
                            "min       1.000000    20.000000     1.000000           20.000000\n",
                            "25%     250.750000    20.000000     4.000000          120.000000\n",
                            "50%     500.500000    25.000000     8.000000          240.000000\n",
                            "75%     750.250000    50.000000    12.000000          360.000000\n",
                            "max    1000.000000    60.000000    15.000000          900.000000"
                        ]
                    },
                    "execution_count": 9,
                    "metadata": {},
                    "output_type": "execute_result"
                }
            ],
            "source": [
                "df.describe()\n",
                "\n",
                "# this data is so uniform. there are not really any obvious outliers. I will adjust as needed if they come up. "
            ]
        },
        {
            "cell_type": "markdown",
            "metadata": {
                "azdata_cell_guid": "6f5b8ee0-bab3-44bc-958a-67d1e4c0407f"
            },
            "source": [
                "## Unnecessary Data\n",
                "\n",
                "Look for the different types of unnecessary data in your dataset and address it as needed. Make sure to use code comments to illustrate your thought process."
            ]
        },
        {
            "cell_type": "code",
            "execution_count": 13,
            "metadata": {
                "azdata_cell_guid": "e788a239-2fbf-41de-9bd3-19e52e3b187c"
            },
            "outputs": [
                {
                    "data": {
                        "text/html": [
                            "<div>\n",
                            "<style scoped>\n",
                            "    .dataframe tbody tr th:only-of-type {\n",
                            "        vertical-align: middle;\n",
                            "    }\n",
                            "\n",
                            "    .dataframe tbody tr th {\n",
                            "        vertical-align: top;\n",
                            "    }\n",
                            "\n",
                            "    .dataframe thead th {\n",
                            "        text-align: right;\n",
                            "    }\n",
                            "</style>\n",
                            "<table border=\"1\" class=\"dataframe\">\n",
                            "  <thead>\n",
                            "    <tr style=\"text-align: right;\">\n",
                            "      <th></th>\n",
                            "      <th>order_id</th>\n",
                            "      <th>date</th>\n",
                            "      <th>item_name</th>\n",
                            "      <th>item_type</th>\n",
                            "      <th>item_price</th>\n",
                            "      <th>quantity</th>\n",
                            "      <th>transaction_amount</th>\n",
                            "      <th>transaction_type</th>\n",
                            "      <th>received_by</th>\n",
                            "      <th>time_of_sale</th>\n",
                            "    </tr>\n",
                            "  </thead>\n",
                            "  <tbody>\n",
                            "    <tr>\n",
                            "      <th>0</th>\n",
                            "      <td>1</td>\n",
                            "      <td>07-03-2022</td>\n",
                            "      <td>Aalopuri</td>\n",
                            "      <td>Fastfood</td>\n",
                            "      <td>20</td>\n",
                            "      <td>13</td>\n",
                            "      <td>260</td>\n",
                            "      <td>NaN</td>\n",
                            "      <td>M</td>\n",
                            "      <td>Night</td>\n",
                            "    </tr>\n",
                            "    <tr>\n",
                            "      <th>1</th>\n",
                            "      <td>2</td>\n",
                            "      <td>8/23/2022</td>\n",
                            "      <td>Vadapav</td>\n",
                            "      <td>Fastfood</td>\n",
                            "      <td>20</td>\n",
                            "      <td>15</td>\n",
                            "      <td>300</td>\n",
                            "      <td>Cash</td>\n",
                            "      <td>M</td>\n",
                            "      <td>Afternoon</td>\n",
                            "    </tr>\n",
                            "    <tr>\n",
                            "      <th>2</th>\n",
                            "      <td>3</td>\n",
                            "      <td>11/20/2022</td>\n",
                            "      <td>Vadapav</td>\n",
                            "      <td>Fastfood</td>\n",
                            "      <td>20</td>\n",
                            "      <td>1</td>\n",
                            "      <td>20</td>\n",
                            "      <td>Cash</td>\n",
                            "      <td>M</td>\n",
                            "      <td>Afternoon</td>\n",
                            "    </tr>\n",
                            "    <tr>\n",
                            "      <th>3</th>\n",
                            "      <td>4</td>\n",
                            "      <td>02-03-2023</td>\n",
                            "      <td>Sugarcane juice</td>\n",
                            "      <td>Beverages</td>\n",
                            "      <td>25</td>\n",
                            "      <td>6</td>\n",
                            "      <td>150</td>\n",
                            "      <td>Online</td>\n",
                            "      <td>M</td>\n",
                            "      <td>Night</td>\n",
                            "    </tr>\n",
                            "    <tr>\n",
                            "      <th>4</th>\n",
                            "      <td>5</td>\n",
                            "      <td>10-02-2022</td>\n",
                            "      <td>Sugarcane juice</td>\n",
                            "      <td>Beverages</td>\n",
                            "      <td>25</td>\n",
                            "      <td>8</td>\n",
                            "      <td>200</td>\n",
                            "      <td>Online</td>\n",
                            "      <td>M</td>\n",
                            "      <td>Evening</td>\n",
                            "    </tr>\n",
                            "    <tr>\n",
                            "      <th>...</th>\n",
                            "      <td>...</td>\n",
                            "      <td>...</td>\n",
                            "      <td>...</td>\n",
                            "      <td>...</td>\n",
                            "      <td>...</td>\n",
                            "      <td>...</td>\n",
                            "      <td>...</td>\n",
                            "      <td>...</td>\n",
                            "      <td>...</td>\n",
                            "      <td>...</td>\n",
                            "    </tr>\n",
                            "    <tr>\n",
                            "      <th>995</th>\n",
                            "      <td>996</td>\n",
                            "      <td>3/19/2023</td>\n",
                            "      <td>Frankie</td>\n",
                            "      <td>Fastfood</td>\n",
                            "      <td>50</td>\n",
                            "      <td>10</td>\n",
                            "      <td>500</td>\n",
                            "      <td>NaN</td>\n",
                            "      <td>F</td>\n",
                            "      <td>Evening</td>\n",
                            "    </tr>\n",
                            "    <tr>\n",
                            "      <th>996</th>\n",
                            "      <td>997</td>\n",
                            "      <td>9/20/2022</td>\n",
                            "      <td>Sandwich</td>\n",
                            "      <td>Fastfood</td>\n",
                            "      <td>60</td>\n",
                            "      <td>7</td>\n",
                            "      <td>420</td>\n",
                            "      <td>NaN</td>\n",
                            "      <td>M</td>\n",
                            "      <td>Evening</td>\n",
                            "    </tr>\n",
                            "    <tr>\n",
                            "      <th>997</th>\n",
                            "      <td>998</td>\n",
                            "      <td>1/26/2023</td>\n",
                            "      <td>Sandwich</td>\n",
                            "      <td>Fastfood</td>\n",
                            "      <td>60</td>\n",
                            "      <td>13</td>\n",
                            "      <td>780</td>\n",
                            "      <td>NaN</td>\n",
                            "      <td>M</td>\n",
                            "      <td>Evening</td>\n",
                            "    </tr>\n",
                            "    <tr>\n",
                            "      <th>998</th>\n",
                            "      <td>999</td>\n",
                            "      <td>8/27/2022</td>\n",
                            "      <td>Panipuri</td>\n",
                            "      <td>Fastfood</td>\n",
                            "      <td>20</td>\n",
                            "      <td>5</td>\n",
                            "      <td>100</td>\n",
                            "      <td>NaN</td>\n",
                            "      <td>F</td>\n",
                            "      <td>Afternoon</td>\n",
                            "    </tr>\n",
                            "    <tr>\n",
                            "      <th>999</th>\n",
                            "      <td>1000</td>\n",
                            "      <td>5/29/2022</td>\n",
                            "      <td>Aalopuri</td>\n",
                            "      <td>Fastfood</td>\n",
                            "      <td>20</td>\n",
                            "      <td>3</td>\n",
                            "      <td>60</td>\n",
                            "      <td>Online</td>\n",
                            "      <td>F</td>\n",
                            "      <td>Midnight</td>\n",
                            "    </tr>\n",
                            "  </tbody>\n",
                            "</table>\n",
                            "<p>1000 rows × 10 columns</p>\n",
                            "</div>"
                        ],
                        "text/plain": [
                            "     order_id        date        item_name  item_type  item_price  quantity  \\\n",
                            "0           1  07-03-2022         Aalopuri   Fastfood          20        13   \n",
                            "1           2   8/23/2022          Vadapav   Fastfood          20        15   \n",
                            "2           3  11/20/2022          Vadapav   Fastfood          20         1   \n",
                            "3           4  02-03-2023  Sugarcane juice  Beverages          25         6   \n",
                            "4           5  10-02-2022  Sugarcane juice  Beverages          25         8   \n",
                            "..        ...         ...              ...        ...         ...       ...   \n",
                            "995       996   3/19/2023          Frankie   Fastfood          50        10   \n",
                            "996       997   9/20/2022         Sandwich   Fastfood          60         7   \n",
                            "997       998   1/26/2023         Sandwich   Fastfood          60        13   \n",
                            "998       999   8/27/2022         Panipuri   Fastfood          20         5   \n",
                            "999      1000   5/29/2022         Aalopuri   Fastfood          20         3   \n",
                            "\n",
                            "     transaction_amount transaction_type received_by time_of_sale  \n",
                            "0                   260              NaN           M        Night  \n",
                            "1                   300             Cash           M    Afternoon  \n",
                            "2                    20             Cash           M    Afternoon  \n",
                            "3                   150           Online           M        Night  \n",
                            "4                   200           Online           M      Evening  \n",
                            "..                  ...              ...         ...          ...  \n",
                            "995                 500              NaN           F      Evening  \n",
                            "996                 420              NaN           M      Evening  \n",
                            "997                 780              NaN           M      Evening  \n",
                            "998                 100              NaN           F    Afternoon  \n",
                            "999                  60           Online           F     Midnight  \n",
                            "\n",
                            "[1000 rows x 10 columns]"
                        ]
                    },
                    "execution_count": 13,
                    "metadata": {},
                    "output_type": "execute_result"
                }
            ],
            "source": [
                "# no data is unnecessary in an obvious way. The Mr. and Mrs. columns for received by is strange so I will replace those with M and F to clarify.\n",
                "\n",
                "df['received_by'] = df['received_by'].replace(['Mr.', 'Mrs.'], ['M', 'F'])\n",
                "df"
            ]
        },
        {
            "cell_type": "markdown",
            "metadata": {
                "azdata_cell_guid": "53e0cf94-c68a-4fa0-9849-9505a66bcce6"
            },
            "source": [
                "## Inconsistent Data\n",
                "\n",
                "Check for inconsistent data and address any that arises. As always, use code comments to illustrate your thought process."
            ]
        },
        {
            "cell_type": "code",
            "execution_count": 14,
            "metadata": {
                "azdata_cell_guid": "e9de6624-812a-43f8-8e20-93b4a49b091f"
            },
            "outputs": [
                {
                    "data": {
                        "text/plain": [
                            "0      True\n",
                            "1      True\n",
                            "2      True\n",
                            "3      True\n",
                            "4      True\n",
                            "       ... \n",
                            "995    True\n",
                            "996    True\n",
                            "997    True\n",
                            "998    True\n",
                            "999    True\n",
                            "Length: 1000, dtype: bool"
                        ]
                    },
                    "execution_count": 14,
                    "metadata": {},
                    "output_type": "execute_result"
                }
            ],
            "source": [
                "# let's check to see if order total is really equal to item price X quantity.\n",
                "\n",
                "df['Calculated Total'] = df['item_price'] * df['quantity']\n",
                "\n",
                "check_total = df['Calculated Total'] == df['transaction_amount']\n",
                "check_total\n",
                "\n",
                "#looks like the item price X the quantity really does equal the 'transaction_amount' the data is not lying!\n"
            ]
        },
        {
            "cell_type": "markdown",
            "metadata": {
                "azdata_cell_guid": "dedc0bfe-17d0-40b2-914f-2ddb54f9ce0d"
            },
            "source": [
                "## Summarize Your Results\n",
                "\n",
                "Make note of your answers to the following questions.\n",
                "\n",
                "1. Did you find all four types of dirty data in your dataset? I found missing data, unnecessary data, but no irregular or inconsistant data. \n",
                "2. Did the process of cleaning your data give you new insights into your dataset? Yes, It forced me to look at the numbers more closely. Worthwhile!\n",
                "3. Is there anything you would like to make note of when it comes to manipulating the data and making visualizations? Yes, I have some new ideas to explore.\n"
            ]
        }
    ],
    "metadata": {
        "kernelspec": {
            "display_name": "Python 3",
            "language": "python",
            "name": "python3"
        },
        "language_info": {
            "codemirror_mode": {
                "name": "ipython",
                "version": 3
            },
            "file_extension": ".py",
            "mimetype": "text/x-python",
            "name": "python",
            "nbconvert_exporter": "python",
            "pygments_lexer": "ipython3",
            "version": "3.11.9"
        }
    },
    "nbformat": 4,
    "nbformat_minor": 2
}
